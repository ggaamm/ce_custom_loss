{
 "cells": [
  {
   "cell_type": "code",
   "execution_count": 1,
   "id": "dimensional-status",
   "metadata": {},
   "outputs": [
    {
     "name": "stderr",
     "output_type": "stream",
     "text": [
      "/Users/gam/anaconda3/lib/python3.7/site-packages/tensorflow/python/framework/dtypes.py:516: FutureWarning: Passing (type, 1) or '1type' as a synonym of type is deprecated; in a future version of numpy, it will be understood as (type, (1,)) / '(1,)type'.\n",
      "  _np_qint8 = np.dtype([(\"qint8\", np.int8, 1)])\n",
      "/Users/gam/anaconda3/lib/python3.7/site-packages/tensorflow/python/framework/dtypes.py:517: FutureWarning: Passing (type, 1) or '1type' as a synonym of type is deprecated; in a future version of numpy, it will be understood as (type, (1,)) / '(1,)type'.\n",
      "  _np_quint8 = np.dtype([(\"quint8\", np.uint8, 1)])\n",
      "/Users/gam/anaconda3/lib/python3.7/site-packages/tensorflow/python/framework/dtypes.py:518: FutureWarning: Passing (type, 1) or '1type' as a synonym of type is deprecated; in a future version of numpy, it will be understood as (type, (1,)) / '(1,)type'.\n",
      "  _np_qint16 = np.dtype([(\"qint16\", np.int16, 1)])\n",
      "/Users/gam/anaconda3/lib/python3.7/site-packages/tensorflow/python/framework/dtypes.py:519: FutureWarning: Passing (type, 1) or '1type' as a synonym of type is deprecated; in a future version of numpy, it will be understood as (type, (1,)) / '(1,)type'.\n",
      "  _np_quint16 = np.dtype([(\"quint16\", np.uint16, 1)])\n",
      "/Users/gam/anaconda3/lib/python3.7/site-packages/tensorflow/python/framework/dtypes.py:520: FutureWarning: Passing (type, 1) or '1type' as a synonym of type is deprecated; in a future version of numpy, it will be understood as (type, (1,)) / '(1,)type'.\n",
      "  _np_qint32 = np.dtype([(\"qint32\", np.int32, 1)])\n",
      "/Users/gam/anaconda3/lib/python3.7/site-packages/tensorflow/python/framework/dtypes.py:525: FutureWarning: Passing (type, 1) or '1type' as a synonym of type is deprecated; in a future version of numpy, it will be understood as (type, (1,)) / '(1,)type'.\n",
      "  np_resource = np.dtype([(\"resource\", np.ubyte, 1)])\n",
      "/Users/gam/anaconda3/lib/python3.7/site-packages/tensorboard/compat/tensorflow_stub/dtypes.py:541: FutureWarning: Passing (type, 1) or '1type' as a synonym of type is deprecated; in a future version of numpy, it will be understood as (type, (1,)) / '(1,)type'.\n",
      "  _np_qint8 = np.dtype([(\"qint8\", np.int8, 1)])\n",
      "/Users/gam/anaconda3/lib/python3.7/site-packages/tensorboard/compat/tensorflow_stub/dtypes.py:542: FutureWarning: Passing (type, 1) or '1type' as a synonym of type is deprecated; in a future version of numpy, it will be understood as (type, (1,)) / '(1,)type'.\n",
      "  _np_quint8 = np.dtype([(\"quint8\", np.uint8, 1)])\n",
      "/Users/gam/anaconda3/lib/python3.7/site-packages/tensorboard/compat/tensorflow_stub/dtypes.py:543: FutureWarning: Passing (type, 1) or '1type' as a synonym of type is deprecated; in a future version of numpy, it will be understood as (type, (1,)) / '(1,)type'.\n",
      "  _np_qint16 = np.dtype([(\"qint16\", np.int16, 1)])\n",
      "/Users/gam/anaconda3/lib/python3.7/site-packages/tensorboard/compat/tensorflow_stub/dtypes.py:544: FutureWarning: Passing (type, 1) or '1type' as a synonym of type is deprecated; in a future version of numpy, it will be understood as (type, (1,)) / '(1,)type'.\n",
      "  _np_quint16 = np.dtype([(\"quint16\", np.uint16, 1)])\n",
      "/Users/gam/anaconda3/lib/python3.7/site-packages/tensorboard/compat/tensorflow_stub/dtypes.py:545: FutureWarning: Passing (type, 1) or '1type' as a synonym of type is deprecated; in a future version of numpy, it will be understood as (type, (1,)) / '(1,)type'.\n",
      "  _np_qint32 = np.dtype([(\"qint32\", np.int32, 1)])\n",
      "/Users/gam/anaconda3/lib/python3.7/site-packages/tensorboard/compat/tensorflow_stub/dtypes.py:550: FutureWarning: Passing (type, 1) or '1type' as a synonym of type is deprecated; in a future version of numpy, it will be understood as (type, (1,)) / '(1,)type'.\n",
      "  np_resource = np.dtype([(\"resource\", np.ubyte, 1)])\n"
     ]
    }
   ],
   "source": [
    "import numpy as np\n",
    "from tensorflow import keras\n",
    "from tensorflow.keras import layers\n",
    "import tensorflow.keras.backend as K\n",
    "import tensorflow as tf\n",
    "from collections import deque\n",
    "import matplotlib.pyplot as plt\n",
    "\n",
    "\n",
    "import custom_loss\n"
   ]
  },
  {
   "cell_type": "code",
   "execution_count": 2,
   "id": "organic-shareware",
   "metadata": {},
   "outputs": [
    {
     "name": "stdout",
     "output_type": "stream",
     "text": [
      "x_train shape: (60000, 28, 28, 1)\n",
      "60000 train samples\n",
      "10000 test samples\n"
     ]
    }
   ],
   "source": [
    "# Model / data parameters\n",
    "num_classes = 10\n",
    "input_shape = (28, 28, 1)\n",
    "\n",
    "# the data, split between train and test sets\n",
    "(x_train, y_train), (x_test, y_test) = keras.datasets.mnist.load_data()\n",
    "\n",
    "# Scale images to the [0, 1] range\n",
    "x_train = x_train.astype(\"float32\") / 255\n",
    "x_test = x_test.astype(\"float32\") / 255\n",
    "# Make sure images have shape (28, 28, 1)\n",
    "x_train = np.expand_dims(x_train, -1)\n",
    "x_test = np.expand_dims(x_test, -1)\n",
    "print(\"x_train shape:\", x_train.shape)\n",
    "print(x_train.shape[0], \"train samples\")\n",
    "print(x_test.shape[0], \"test samples\")\n",
    "\n",
    "\n",
    "# convert class vectors to binary class matrices\n",
    "y_train = keras.utils.to_categorical(y_train, num_classes)\n",
    "y_test = keras.utils.to_categorical(y_test, num_classes)"
   ]
  },
  {
   "cell_type": "code",
   "execution_count": 3,
   "id": "duplicate-tennessee",
   "metadata": {},
   "outputs": [],
   "source": [
    "def build_model():\n",
    "    model = keras.Sequential(\n",
    "        [\n",
    "            keras.Input(shape=input_shape),\n",
    "            layers.Conv2D(32, kernel_size=(3, 3), activation=\"relu\"),\n",
    "            layers.MaxPooling2D(pool_size=(2, 2)),\n",
    "            layers.Conv2D(64, kernel_size=(3, 3), activation=\"relu\"),\n",
    "            layers.MaxPooling2D(pool_size=(2, 2)),\n",
    "            layers.Flatten(),\n",
    "            layers.Dropout(0.5),\n",
    "            layers.Dense(num_classes, activation=\"softmax\"),\n",
    "        ]\n",
    "    )\n",
    "    return model\n",
    "\n"
   ]
  },
  {
   "cell_type": "code",
   "execution_count": 4,
   "id": "prospective-nigeria",
   "metadata": {},
   "outputs": [
    {
     "data": {
      "text/plain": [
       "array([[0., 0., 0., 0., 0., 1., 0., 0., 0., 0.],\n",
       "       [1., 0., 0., 0., 0., 0., 0., 0., 0., 0.],\n",
       "       [0., 0., 0., 0., 1., 0., 0., 0., 0., 0.],\n",
       "       [0., 1., 0., 0., 0., 0., 0., 0., 0., 0.],\n",
       "       [0., 0., 0., 0., 0., 0., 0., 0., 0., 1.]], dtype=float32)"
      ]
     },
     "execution_count": 4,
     "metadata": {},
     "output_type": "execute_result"
    }
   ],
   "source": [
    "y_train[0:5]"
   ]
  },
  {
   "cell_type": "code",
   "execution_count": 5,
   "id": "suspended-spectacular",
   "metadata": {},
   "outputs": [
    {
     "name": "stdout",
     "output_type": "stream",
     "text": [
      "WARNING:tensorflow:From /Users/gam/anaconda3/lib/python3.7/site-packages/tensorflow/python/ops/init_ops.py:1251: calling VarianceScaling.__init__ (from tensorflow.python.ops.init_ops) with dtype is deprecated and will be removed in a future version.\n",
      "Instructions for updating:\n",
      "Call initializer instance with the dtype argument instead of passing it to the constructor\n",
      "Train on 54000 samples, validate on 6000 samples\n",
      "Epoch 1/5\n",
      "54000/54000 [==============================] - 36s 674us/sample - loss: 0.3725 - acc: 0.8878 - val_loss: 0.0831 - val_acc: 0.9792\n",
      "Epoch 2/5\n",
      "54000/54000 [==============================] - 32s 599us/sample - loss: 0.1141 - acc: 0.9649 - val_loss: 0.0589 - val_acc: 0.9833\n",
      "Epoch 3/5\n",
      "54000/54000 [==============================] - 32s 594us/sample - loss: 0.0840 - acc: 0.9741 - val_loss: 0.0508 - val_acc: 0.9858\n",
      "Epoch 4/5\n",
      "54000/54000 [==============================] - 32s 589us/sample - loss: 0.0703 - acc: 0.9779 - val_loss: 0.0416 - val_acc: 0.9870\n",
      "Epoch 5/5\n",
      "54000/54000 [==============================] - 31s 582us/sample - loss: 0.0611 - acc: 0.9814 - val_loss: 0.0406 - val_acc: 0.9878\n"
     ]
    }
   ],
   "source": [
    "batch_size = 128\n",
    "epochs = 5\n",
    "\n",
    "model1 = build_model()\n",
    "model1.compile(loss=\"categorical_crossentropy\", optimizer=\"adam\", metrics=[\"accuracy\"])\n",
    "history1 = model1.fit(x_train, y_train, batch_size=batch_size, epochs=epochs, validation_split=0.1)"
   ]
  },
  {
   "cell_type": "code",
   "execution_count": 6,
   "id": "convenient-delight",
   "metadata": {},
   "outputs": [
    {
     "name": "stdout",
     "output_type": "stream",
     "text": [
      "Test loss: 0.03943029860421084\n",
      "Test accuracy: 0.9877\n"
     ]
    }
   ],
   "source": [
    "score = model1.evaluate(x_test, y_test, verbose=0)\n",
    "print(\"Test loss:\", score[0])\n",
    "print(\"Test accuracy:\", score[1])"
   ]
  },
  {
   "cell_type": "code",
   "execution_count": 7,
   "id": "historic-poison",
   "metadata": {},
   "outputs": [
    {
     "name": "stdout",
     "output_type": "stream",
     "text": [
      "Train on 54000 samples, validate on 6000 samples\n",
      "Epoch 1/5\n",
      "54000/54000 [==============================] - 34s 632us/sample - loss: 0.3699 - acc: 0.8888 - val_loss: 0.0817 - val_acc: 0.9793\n",
      "Epoch 2/5\n",
      "54000/54000 [==============================] - 34s 632us/sample - loss: 0.1103 - acc: 0.9671 - val_loss: 0.0539 - val_acc: 0.9848\n",
      "Epoch 3/5\n",
      "54000/54000 [==============================] - 37s 693us/sample - loss: 0.0824 - acc: 0.9746 - val_loss: 0.0462 - val_acc: 0.9873\n",
      "Epoch 4/5\n",
      "54000/54000 [==============================] - 37s 686us/sample - loss: 0.0711 - acc: 0.9782 - val_loss: 0.0442 - val_acc: 0.9875\n",
      "Epoch 5/5\n",
      "54000/54000 [==============================] - 36s 668us/sample - loss: 0.0613 - acc: 0.9812 - val_loss: 0.0378 - val_acc: 0.9903\n",
      "Test loss: 0.03606547953691334\n",
      "Test accuracy: 0.9887\n"
     ]
    }
   ],
   "source": [
    "model2 = build_model()\n",
    "model2.compile(loss=custom_loss.ce_custom_loss, optimizer=\"adam\", metrics=[\"accuracy\"])\n",
    "history2 = model2.fit(x_train, y_train, batch_size=batch_size, epochs=epochs, validation_split=0.1)\n",
    "score = model2.evaluate(x_test, y_test, verbose=0)\n",
    "print(\"Test loss:\", score[0])\n",
    "print(\"Test accuracy:\", score[1])"
   ]
  },
  {
   "cell_type": "code",
   "execution_count": 8,
   "id": "controlled-killer",
   "metadata": {},
   "outputs": [
    {
     "name": "stdout",
     "output_type": "stream",
     "text": [
      "dict_keys(['loss', 'acc', 'val_loss', 'val_acc'])\n"
     ]
    },
    {
     "data": {
      "image/png": "[encoded data removed]",
      "text/plain": [
       "<Figure size 432x288 with 1 Axes>"
      ]
     },
     "metadata": {
      "needs_background": "light"
     },
     "output_type": "display_data"
    },
    {
     "data": {
      "image/png": "[encoded data removed]",
      "text/plain": [
       "<Figure size 432x288 with 1 Axes>"
      ]
     },
     "metadata": {
      "needs_background": "light"
     },
     "output_type": "display_data"
    }
   ],
   "source": [
    "custom_loss.compare_models(history1, history2)"
   ]
  },
  {
   "cell_type": "code",
   "execution_count": 9,
   "id": "characteristic-series",
   "metadata": {},
   "outputs": [
    {
     "ename": "SyntaxError",
     "evalue": "invalid syntax (<ipython-input-9-bf5b39a1e36c>, line 1)",
     "output_type": "error",
     "traceback": [
      "\u001b[0;36m  File \u001b[0;32m\"<ipython-input-9-bf5b39a1e36c>\"\u001b[0;36m, line \u001b[0;32m1\u001b[0m\n\u001b[0;31m    cross entropy 15 epochs\u001b[0m\n\u001b[0m                ^\u001b[0m\n\u001b[0;31mSyntaxError\u001b[0m\u001b[0;31m:\u001b[0m invalid syntax\n"
     ]
    }
   ],
   "source": [
    "cross entropy 15 epochs\n",
    "Test loss: 0.026275044947856804\n",
    "Test accuracy: 0.991\n",
    "\n",
    "cross entropy 8 epocs\n",
    "Test loss: 0.03290628776843078\n",
    "Test accuracy: 0.9888\n",
    "    \n",
    "new 8 epochs\n",
    "Test loss: -0.9681606561660766\n",
    "Test accuracy: 0.9891\n",
    "\n",
    "new 15 epochs\n",
    "Test loss: -0.976218420791626\n",
    "Test accuracy: 0.9924\n",
    "    \n",
    "new 15 epochs\n",
    "Test loss: -0.09756205699443816\n",
    "Test accuracy: 0.9918\n",
    "    \n",
    "\n",
    "new2 15 epochs\n",
    "Test loss: 0.024195944295398657\n",
    "Test accuracy: 0.992"
   ]
  },
  {
   "cell_type": "code",
   "execution_count": null,
   "id": "serious-wesley",
   "metadata": {},
   "outputs": [],
   "source": [
    "Train on 54000 samples, validate on 6000 samples\n",
    "Epoch 1/8\n",
    "54000/54000 [==============================] - 39s 728us/sample - loss: 0.3701 - acc: 0.8887 - val_loss: 0.0769 - val_acc: 0.9800\n",
    "Epoch 2/8\n",
    "54000/54000 [==============================] - 42s 770us/sample - loss: 0.1108 - acc: 0.9664 - val_loss: 0.0556 - val_acc: 0.9848\n",
    "Epoch 3/8\n",
    "54000/54000 [==============================] - 41s 753us/sample - loss: 0.0829 - acc: 0.9743 - val_loss: 0.0472 - val_acc: 0.9877\n",
    "Epoch 4/8\n",
    "54000/54000 [==============================] - 44s 816us/sample - loss: 0.0701 - acc: 0.9780 - val_loss: 0.0420 - val_acc: 0.9890\n",
    "Epoch 5/8\n",
    "54000/54000 [==============================] - 34s 638us/sample - loss: 0.0611 - acc: 0.9812 - val_loss: 0.0407 - val_acc: 0.9900\n",
    "Epoch 6/8\n",
    "54000/54000 [==============================] - 38s 708us/sample - loss: 0.0544 - acc: 0.9831 - val_loss: 0.0404 - val_acc: 0.9885\n",
    "Epoch 7/8\n",
    "54000/54000 [==============================] - 31s 565us/sample - loss: 0.0518 - acc: 0.9837 - val_loss: 0.0377 - val_acc: 0.9895\n",
    "Epoch 8/8\n",
    "54000/54000 [==============================] - 34s 636us/sample - loss: 0.0472 - acc: 0.9849 - val_loss: 0.0362 - val_acc: 0.9910\n",
    "Out[5]:\n",
    "<tensorflow.python.keras.callbacks.History at 0x7fdcd4a54b50>"
   ]
  }
 ],
 "metadata": {
  "kernelspec": {
   "display_name": "Python 3",
   "language": "python",
   "name": "python3"
  },
  "language_info": {
   "codemirror_mode": {
    "name": "ipython",
    "version": 3
   },
   "file_extension": ".py",
   "mimetype": "text/x-python",
   "name": "python",
   "nbconvert_exporter": "python",
   "pygments_lexer": "ipython3",
   "version": "3.7.8"
  }
 },
 "nbformat": 4,
 "nbformat_minor": 5
}
